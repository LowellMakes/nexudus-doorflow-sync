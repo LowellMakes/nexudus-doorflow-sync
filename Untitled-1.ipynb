{
 "cells": [
  {
   "cell_type": "code",
   "execution_count": null,
   "metadata": {},
   "outputs": [],
   "source": [
    "from passwords import secrets\n",
    "import requests\n",
    "import sqlite3"
   ]
  },
  {
   "cell_type": "code",
   "execution_count": null,
   "metadata": {},
   "outputs": [],
   "source": [
    "team_map = pd.read_csv('team_group_map.csv', dtype='str')\n",
    "team_map"
   ]
  },
  {
   "cell_type": "code",
   "execution_count": null,
   "metadata": {},
   "outputs": [],
   "source": [
    "nexudus_auth = (secrets['nexudus_username'],\n",
    "                secrets['nexudus_password'])\n"
   ]
  },
  {
   "cell_type": "code",
   "execution_count": null,
   "metadata": {},
   "outputs": [],
   "source": [
    "def dict_factory(cursor, row):\n",
    "    fields = [column[0] for column in cursor.description]\n",
    "    return {key: value for key, value in zip(fields, row)}\n"
   ]
  },
  {
   "cell_type": "code",
   "execution_count": null,
   "metadata": {},
   "outputs": [],
   "source": [
    "my_id = 818562903\n",
    "con = sqlite3.connect(\"nexudus_database.db\")\n",
    "con.row_factory = dict_factory\n",
    "cur = con.execute(f\"SELECT * from nexudus_members WHERE id={my_id}\")\n",
    "local = cur.fetchone()\n"
   ]
  },
  {
   "cell_type": "code",
   "execution_count": 209,
   "metadata": {},
   "outputs": [
    {
     "name": "stdout",
     "output_type": "stream",
     "text": [
      "[1415965057, 818562903]\n"
     ]
    }
   ],
   "source": [
    "teams = team_map['nexudus_id'].to_list()\n",
    "ids_to_update = []\n",
    "for team in teams:\n",
    "    if pd.isna(team):\n",
    "        continue\n",
    "    url = f\"https://spaces.nexudus.com/api/spaces/teams/{team}\"\n",
    "    r = requests.get(url, auth=nexudus_auth)\n",
    "    nex_members = r.json()['TeamMembers']\n",
    "    cur = con.execute(f\"SELECT id from nexudus_members WHERE TeamIds like '%{team}%'\")\n",
    "    local_members = [int(x['Id']) for x in cur.fetchall()]\n",
    "    diff = set(nex_members).symmetric_difference(set(local_members))\n",
    "    [ids_to_update.append(x) for x in diff]\n",
    "\n",
    "ids_to_update = list(set(ids_to_update))\n",
    "\n",
    "print(ids_to_update)"
   ]
  },
  {
   "cell_type": "code",
   "execution_count": 214,
   "metadata": {},
   "outputs": [
    {
     "name": "stdout",
     "output_type": "stream",
     "text": [
      "Adding User: Maureen Farrell\n",
      "Adding User: David A Barber\n",
      "Adding User: Ronnie\n",
      "Adding User: Eric Every\n",
      "Adding User: Holla Upshaw\n",
      "Adding User: Madelaine Hamilton\n",
      "Adding User: Betsy Richman\n",
      "Adding User: Michael Gomez\n",
      "Adding User: Curtis Mai\n",
      "Adding User: David Joseph Mollica\n",
      "Adding User: David Joseph Mollica\n",
      "Adding User: Brian Gately\n",
      "Adding User: Tanner Olsen\n",
      "[1416230691, 1415965057, 1421387513, 1421387680, 1421401240, 1421415373, 1421413473, 1421442271, 1421569096, 1421585283, 1421585298, 1421601942, 1421603800]\n"
     ]
    }
   ],
   "source": [
    "start_time = datetime.datetime.now(datetime.timezone.utc) - datetime.timedelta(minutes=60)\n",
    "start_string = urllib.parse.quote_plus(\n",
    "    start_time.strftime(\"%Y-%m-%dT%H:%M\"))\n",
    "\n",
    "all_updates = []\n",
    "\n",
    "# Check for nexudus flagged updates\n",
    "url = f\"https://spaces.nexudus.com/api/spaces/coworkers?from_Coworker_UpdatedOn={start_string}\"\n",
    "r = requests.get(url, auth=nexudus_auth)\n",
    "if r.status_code == 200:\n",
    "    for user in r.json()['Records']:\n",
    "        print(f\"Adding User: {user['FullName']}\")\n",
    "        all_updates.append(user['Id'])\n",
    "\n",
    "url = \"https://spaces.nexudus.com/api/billing/coworkerinvoices?CoworkerInvoice_Paid=false&CoworkerInvoice_Void=false\"\n",
    "r = requests.get(url, auth=nexudus_auth)\n",
    "if r.status_code == 200:\n",
    "    for user in r.json()['Records']:\n",
    "        print(f\"Adding User: {user['CoworkerFullName']}\")\n",
    "        all_updates.append(user['Id'])\n",
    "\n",
    "all_updates = list(set(all_updates))\n"
   ]
  }
 ],
 "metadata": {
  "kernelspec": {
   "display_name": "venv",
   "language": "python",
   "name": "python3"
  },
  "language_info": {
   "codemirror_mode": {
    "name": "ipython",
    "version": 3
   },
   "file_extension": ".py",
   "mimetype": "text/x-python",
   "name": "python",
   "nbconvert_exporter": "python",
   "pygments_lexer": "ipython3",
   "version": "3.11.2"
  },
  "orig_nbformat": 4
 },
 "nbformat": 4,
 "nbformat_minor": 2
}
